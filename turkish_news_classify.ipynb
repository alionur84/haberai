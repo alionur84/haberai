{
 "cells": [
  {
   "cell_type": "markdown",
   "metadata": {},
   "source": [
    "<h3 style = \"color: #a64e7e\">Import Libraries</h3>"
   ]
  },
  {
   "cell_type": "code",
   "execution_count": 1,
   "metadata": {},
   "outputs": [],
   "source": [
    "import pandas as pd\n",
    "import numpy as np"
   ]
  },
  {
   "cell_type": "code",
   "execution_count": 2,
   "metadata": {
    "scrolled": true
   },
   "outputs": [],
   "source": [
    "df = pd.read_csv(\"ttc_4900.csv\")"
   ]
  },
  {
   "cell_type": "markdown",
   "metadata": {},
   "source": [
    "<h3 style = \"color: #a64e7e\">Create a Class</h3>\n",
    "<p style = \"color: Darkblue \">For easier parsing</p>"
   ]
  },
  {
   "cell_type": "code",
   "execution_count": 3,
   "metadata": {},
   "outputs": [],
   "source": [
    "class News:\n",
    "    def __init__(self, text, category):\n",
    "        self.text = text\n",
    "        self.category = category\n",
    "        self.code = self.get_code()\n",
    "#create a function that converts category to category codes\n",
    "#1 siyaset 2 dunya 3 ekonomi 4 kultur 5 saglik 6 spor 7 teknoloji\n",
    "    def get_code(self):\n",
    "        if self.category == \"siyaset\":\n",
    "            return 1\n",
    "        if self.category == \"dunya\":\n",
    "            return 2\n",
    "        if self.category == \"ekonomi\":\n",
    "            return 3\n",
    "        if self.category == \"kultur\":\n",
    "            return 4\n",
    "        if self.category == \"saglik\":\n",
    "            return 5\n",
    "        if self.category == \"spor\":\n",
    "            return 6\n",
    "        if self.category == \"teknoloji\":\n",
    "            return 7\n",
    "        "
   ]
  },
  {
   "cell_type": "markdown",
   "metadata": {},
   "source": [
    "<h3 style = \"color: #a64e7e\">Prepare Data</h3>\n",
    "<p style = \"color: Darkblue \">Clear whitespaces from category tags</p>"
   ]
  },
  {
   "cell_type": "code",
   "execution_count": 4,
   "metadata": {},
   "outputs": [],
   "source": [
    "for i in df.index:\n",
    "    df.iloc[i]['category'] = df.iloc[i]['category'].strip()"
   ]
  },
  {
   "cell_type": "markdown",
   "metadata": {},
   "source": [
    "<p style = \"color: Darkblue \">Populate a list with news - category doubles</p>"
   ]
  },
  {
   "cell_type": "code",
   "execution_count": 5,
   "metadata": {},
   "outputs": [],
   "source": [
    "news = []\n",
    "for i in df.index:\n",
    "    news.append(News(df.iloc[i]['text'], df.iloc[i]['category']))\n",
    "    "
   ]
  },
  {
   "cell_type": "markdown",
   "metadata": {},
   "source": [
    "<p style = \"color: Darkblue \">Now elements in our dataset has attributes of category, text, and category code. <br>Easier to access</p>"
   ]
  },
  {
   "cell_type": "code",
   "execution_count": 6,
   "metadata": {},
   "outputs": [
    {
     "data": {
      "text/plain": [
       "'dunya'"
      ]
     },
     "execution_count": 6,
     "metadata": {},
     "output_type": "execute_result"
    }
   ],
   "source": [
    "news[1258].category"
   ]
  },
  {
   "cell_type": "code",
   "execution_count": 7,
   "metadata": {},
   "outputs": [
    {
     "data": {
      "text/plain": [
       "2"
      ]
     },
     "execution_count": 7,
     "metadata": {},
     "output_type": "execute_result"
    }
   ],
   "source": [
    "news[1258].code"
   ]
  },
  {
   "cell_type": "markdown",
   "metadata": {},
   "source": [
    "<h3 style = \"color: #a64e7e\">Create a bag of words</h3>\n",
    "<p style = \"color: Darkblue \">in order to convert words to numerical vectors</p>\n",
    "<p style = \"color: Darkblue \">vectorizers converts text data into an array where each word is represented by a numerical value, most of the time these valeus are binary</p>"
   ]
  },
  {
   "cell_type": "code",
   "execution_count": 8,
   "metadata": {},
   "outputs": [],
   "source": [
    "#split the data into training and set\n",
    "from sklearn.model_selection import train_test_split\n",
    "#stratify argument e bir bakalım\n",
    "training, test = train_test_split(news, test_size = 0.33, random_state = 42)"
   ]
  },
  {
   "cell_type": "markdown",
   "metadata": {},
   "source": [
    "<p style = \"color: Darkblue \">We are splitting train into text and category. same thing for the training data too. When vectorizing, we only vectorize text of the news, not the categories. That's how we will use the data to train our model<br>the second line takes the category code and reformats the splitted training data. it can be category not necessarly code</p>\n",
    "<p style=\"color: Darkblue \">I changed it to category for better following now. That's why it is like that underneath this </p>\n",
    "<p style=\"color: Darkblue \">x is the texts, y is the answer or the category </p>"
   ]
  },
  {
   "cell_type": "code",
   "execution_count": 9,
   "metadata": {},
   "outputs": [],
   "source": [
    "train_x = [x.text for x in training]\n",
    "train_y = [x.category for x in training]\n",
    "\n",
    "test_x = [a.text for a in test]\n",
    "test_y = [a.category for a in test]"
   ]
  },
  {
   "cell_type": "code",
   "execution_count": 10,
   "metadata": {},
   "outputs": [
    {
     "data": {
      "text/plain": [
       "'saglik'"
      ]
     },
     "execution_count": 10,
     "metadata": {},
     "output_type": "execute_result"
    }
   ],
   "source": [
    "test_y[100]"
   ]
  },
  {
   "cell_type": "code",
   "execution_count": 11,
   "metadata": {},
   "outputs": [
    {
     "data": {
      "text/plain": [
       "' fast food lara dikkat fast food çocuklarda astım egzama ve burun iltihabı riskini artırabilir ayaküstü beslenme şeklinin çocuklarda astım egzama ve burun iltihabı rahatsızlıklarıyla bağlantılı olduğu belirlendi bilim adamları 51 ülkede 13 14 yaş grubundaki 319 bin çocuk ile 31 ülkede 6 7 yaş grubundaki 181 bin çocuğun sağlık durumuna ilişkin verileri inceledi çocukların her hafta ne yedikleri astım burun iltihabı ve egzama belirtileri olup olmadığı ebeveynlere soruldu haftada 3 ya da daha fazla kez ayaküstü beslenen ilk gruptaki çocukların astım burun iltihabı ve egzama riskinin yüzde 39 diğer gruptakilerin yüzde 27 olduğu görüldü haftada 3 ya da daha fazla porsiyon meyve yiyen ilk gruptakilerde hastalık belirtilerinin yüzde 11 ikinci gruptakilerde yüzde 14 azaldığı saptandı ayaküstü yenen besinlerin fazla doymuş yağ ve trans yağ asitleri içerdiğini belirten bilim adamları bu yağların ve asitlerin bağışıklık sistemini etkilediğine dikkati çekti araştırma thorax dergisinde yayımlandı'"
      ]
     },
     "execution_count": 11,
     "metadata": {},
     "output_type": "execute_result"
    }
   ],
   "source": [
    "test_x[100]"
   ]
  },
  {
   "cell_type": "code",
   "execution_count": 12,
   "metadata": {},
   "outputs": [
    {
     "data": {
      "text/plain": [
       "'kultur'"
      ]
     },
     "execution_count": 12,
     "metadata": {},
     "output_type": "execute_result"
    }
   ],
   "source": [
    "train_y[400]"
   ]
  },
  {
   "cell_type": "code",
   "execution_count": 13,
   "metadata": {
    "scrolled": false
   },
   "outputs": [
    {
     "data": {
      "text/plain": [
       "' türk sanatçıdan londra da bir ilk ingiltere nin başkenti londra nın önemli modern sanat müzesi saatchi galeri de kişisel sergi açan ilk türk sanatçı seçkin pirim sergi o kadar çok gezildi ki hiç sanatla ilgisi olmayan insanlardan bile e posta aldım dedi pirim 29 ekim de açılan disiplin fabrikası sergisiyle ilgili yaptığı açıklamada türkiye de sanat ivmesinin hızlandığını ve çok iyi sanatçılar olduğunu kaydederek dünya piyasasında bu sanatçıların çok iyi yerlere geleceğine inanıyorum dedi pirim türkiye deki tek sorunun yapılan sanatın dünya piyasasına çok kolay taşınamaması olduğunu ifade ederek bu çerçevede londra da sergi açmaya karar verdiklerini kaydetti seçkin pirim müzenin sahibi olan ünlü reklamcı ve koleksiyoncu charles saatchi ile yapılan yazışmalar sonucu saatchi galeri ye bir dosya sunulduğunu dosyanın değerlendirilmesi sonucu ise serginin açılmasına onay verildiğini anlattı müzeyi günde 1000 1500 kişinin gezdiğini vurgulayan pirim şunları kaydetti sergiyle ilgili şu ana kadarki geri dönüşler çok iyiydi sergiyi çok sayıda koleksiyoncu küratör ve basın mensubu gezdi birçoğundan çok güzel geri dönüşler aldık hatta sonrası için londra da özel bir galeride sergi açmak için bağlantılarımız oldu sergi o kadar çok gezildi ki hiç sanatla ilgisi olmayan insanlardan bile e posta aldım burada yaşayan çok sayıda türk de sergiyi gezdi ve gururlandıklarını söyledi bu da çok hoştu diye konuştu pirim dünya piyasasına girmek için türk sanatçıların ve galericilerin birbirine destek olması gerektiğini vurguladı seçkin pirim ankara da yaptığı askerliğin ardından ortaya çıkan disiplin fabrikası konulu serginin üçüncü serisi olan londra saatchi galeri deki sergisinde 12 eserini sergiledi içinde olduğumuz sosyolojik toplumsal ve kişisel yapıların kontrol altına alınma çabasına karşı gösterilmiş tepkinin anlatıldığı heykeller ve eserlerde kağıt ve akrilik gibi malzemeler kullanılmış 1977 yılında ankara da doğan pirim 1995 yılında güzel sanatlar lisesi resim bölümünü bitirdikten sonra mimar_sinan üniversitesi güzel sanatlar fakültesi heykel bölümü nden 2000 yılında mezun oldu heykel ve tasarım alanında birçok ödüle sahip olan pirim in yapıtları yurt içi ve yurt dışında birçok özel koleksiyonda ve müzelerde yer aldı saatchi galeri damien_hirst ve tracey emin gibi sanatçıların uluslararası arenada ve modern sanatta tanınmalarını sağlamasıyla da biliniyor'"
      ]
     },
     "execution_count": 13,
     "metadata": {},
     "output_type": "execute_result"
    }
   ],
   "source": [
    "train_x[400]"
   ]
  },
  {
   "cell_type": "code",
   "execution_count": 14,
   "metadata": {},
   "outputs": [],
   "source": [
    "from sklearn.feature_extraction.text import CountVectorizer\n",
    "\n",
    "vectorizer = CountVectorizer()\n",
    "train_x_vectors = vectorizer.fit_transform(train_x)\n",
    "\n",
    "#test datayı sadece vectorize ediyorsun. o yüzden transform yeterli do not fit it\n",
    "test_x_vectors = vectorizer.transform(test_x)\n",
    "\n",
    "\n",
    "\n"
   ]
  },
  {
   "cell_type": "code",
   "execution_count": 31,
   "metadata": {},
   "outputs": [],
   "source": [
    "import pickle\n",
    "\n",
    "with open(\"vectorizer2.pkl\", \"wb\") as f:\n",
    "    pickle.dump(vectorizer, f)"
   ]
  },
  {
   "cell_type": "code",
   "execution_count": 15,
   "metadata": {},
   "outputs": [
    {
     "name": "stdout",
     "output_type": "stream",
     "text": [
      "  (0, 75279)\t1\n",
      "  (0, 56952)\t1\n",
      "  (0, 56206)\t2\n",
      "  (0, 77571)\t11\n",
      "  (0, 37682)\t1\n",
      "  (0, 56327)\t1\n",
      "  (0, 13751)\t8\n",
      "  (0, 17361)\t5\n",
      "  (0, 79913)\t1\n",
      "  (0, 19926)\t1\n",
      "  (0, 16617)\t6\n",
      "  (0, 21997)\t1\n",
      "  (0, 37343)\t1\n",
      "  (0, 37044)\t5\n",
      "  (0, 37228)\t3\n",
      "  (0, 86837)\t3\n",
      "  (0, 9891)\t2\n",
      "  (0, 35135)\t1\n",
      "  (0, 67398)\t6\n",
      "  (0, 82729)\t1\n",
      "  (0, 16677)\t1\n",
      "  (0, 39674)\t1\n",
      "  (0, 23990)\t7\n",
      "  (0, 12415)\t6\n",
      "  (0, 56854)\t1\n",
      "  :\t:\n",
      "  (0, 81642)\t1\n",
      "  (0, 45608)\t1\n",
      "  (0, 81291)\t1\n",
      "  (0, 81297)\t1\n",
      "  (0, 5308)\t1\n",
      "  (0, 81294)\t1\n",
      "  (0, 34614)\t1\n",
      "  (0, 52695)\t1\n",
      "  (0, 22789)\t1\n",
      "  (0, 84903)\t1\n",
      "  (0, 7528)\t1\n",
      "  (0, 81361)\t1\n",
      "  (0, 67095)\t1\n",
      "  (0, 26923)\t1\n",
      "  (0, 45505)\t1\n",
      "  (0, 7676)\t1\n",
      "  (0, 65579)\t1\n",
      "  (0, 63166)\t1\n",
      "  (0, 58747)\t1\n",
      "  (0, 46287)\t1\n",
      "  (0, 58960)\t1\n",
      "  (0, 26450)\t1\n",
      "  (0, 64652)\t1\n",
      "  (0, 70576)\t1\n",
      "  (0, 22677)\t1\n"
     ]
    }
   ],
   "source": [
    "#that is how it looks when you apply bag of words. counts the words\n",
    "print(train_x_vectors[15])"
   ]
  },
  {
   "cell_type": "markdown",
   "metadata": {},
   "source": [
    "<h3 style = \"color: #a64e7e\">Classification</h3>\n",
    "<p style = \"color: Darkblue \">Apply the model and classify data</p>"
   ]
  },
  {
   "cell_type": "markdown",
   "metadata": {},
   "source": [
    "#### Linear SVM"
   ]
  },
  {
   "cell_type": "code",
   "execution_count": 16,
   "metadata": {},
   "outputs": [
    {
     "data": {
      "text/html": [
       "<style>#sk-container-id-1 {color: black;background-color: white;}#sk-container-id-1 pre{padding: 0;}#sk-container-id-1 div.sk-toggleable {background-color: white;}#sk-container-id-1 label.sk-toggleable__label {cursor: pointer;display: block;width: 100%;margin-bottom: 0;padding: 0.3em;box-sizing: border-box;text-align: center;}#sk-container-id-1 label.sk-toggleable__label-arrow:before {content: \"▸\";float: left;margin-right: 0.25em;color: #696969;}#sk-container-id-1 label.sk-toggleable__label-arrow:hover:before {color: black;}#sk-container-id-1 div.sk-estimator:hover label.sk-toggleable__label-arrow:before {color: black;}#sk-container-id-1 div.sk-toggleable__content {max-height: 0;max-width: 0;overflow: hidden;text-align: left;background-color: #f0f8ff;}#sk-container-id-1 div.sk-toggleable__content pre {margin: 0.2em;color: black;border-radius: 0.25em;background-color: #f0f8ff;}#sk-container-id-1 input.sk-toggleable__control:checked~div.sk-toggleable__content {max-height: 200px;max-width: 100%;overflow: auto;}#sk-container-id-1 input.sk-toggleable__control:checked~label.sk-toggleable__label-arrow:before {content: \"▾\";}#sk-container-id-1 div.sk-estimator input.sk-toggleable__control:checked~label.sk-toggleable__label {background-color: #d4ebff;}#sk-container-id-1 div.sk-label input.sk-toggleable__control:checked~label.sk-toggleable__label {background-color: #d4ebff;}#sk-container-id-1 input.sk-hidden--visually {border: 0;clip: rect(1px 1px 1px 1px);clip: rect(1px, 1px, 1px, 1px);height: 1px;margin: -1px;overflow: hidden;padding: 0;position: absolute;width: 1px;}#sk-container-id-1 div.sk-estimator {font-family: monospace;background-color: #f0f8ff;border: 1px dotted black;border-radius: 0.25em;box-sizing: border-box;margin-bottom: 0.5em;}#sk-container-id-1 div.sk-estimator:hover {background-color: #d4ebff;}#sk-container-id-1 div.sk-parallel-item::after {content: \"\";width: 100%;border-bottom: 1px solid gray;flex-grow: 1;}#sk-container-id-1 div.sk-label:hover label.sk-toggleable__label {background-color: #d4ebff;}#sk-container-id-1 div.sk-serial::before {content: \"\";position: absolute;border-left: 1px solid gray;box-sizing: border-box;top: 0;bottom: 0;left: 50%;z-index: 0;}#sk-container-id-1 div.sk-serial {display: flex;flex-direction: column;align-items: center;background-color: white;padding-right: 0.2em;padding-left: 0.2em;position: relative;}#sk-container-id-1 div.sk-item {position: relative;z-index: 1;}#sk-container-id-1 div.sk-parallel {display: flex;align-items: stretch;justify-content: center;background-color: white;position: relative;}#sk-container-id-1 div.sk-item::before, #sk-container-id-1 div.sk-parallel-item::before {content: \"\";position: absolute;border-left: 1px solid gray;box-sizing: border-box;top: 0;bottom: 0;left: 50%;z-index: -1;}#sk-container-id-1 div.sk-parallel-item {display: flex;flex-direction: column;z-index: 1;position: relative;background-color: white;}#sk-container-id-1 div.sk-parallel-item:first-child::after {align-self: flex-end;width: 50%;}#sk-container-id-1 div.sk-parallel-item:last-child::after {align-self: flex-start;width: 50%;}#sk-container-id-1 div.sk-parallel-item:only-child::after {width: 0;}#sk-container-id-1 div.sk-dashed-wrapped {border: 1px dashed gray;margin: 0 0.4em 0.5em 0.4em;box-sizing: border-box;padding-bottom: 0.4em;background-color: white;}#sk-container-id-1 div.sk-label label {font-family: monospace;font-weight: bold;display: inline-block;line-height: 1.2em;}#sk-container-id-1 div.sk-label-container {text-align: center;}#sk-container-id-1 div.sk-container {/* jupyter's `normalize.less` sets `[hidden] { display: none; }` but bootstrap.min.css set `[hidden] { display: none !important; }` so we also need the `!important` here to be able to override the default hidden behavior on the sphinx rendered scikit-learn.org. See: https://github.com/scikit-learn/scikit-learn/issues/21755 */display: inline-block !important;position: relative;}#sk-container-id-1 div.sk-text-repr-fallback {display: none;}</style><div id=\"sk-container-id-1\" class=\"sk-top-container\"><div class=\"sk-text-repr-fallback\"><pre>SVC(kernel=&#x27;linear&#x27;)</pre><b>In a Jupyter environment, please rerun this cell to show the HTML representation or trust the notebook. <br />On GitHub, the HTML representation is unable to render, please try loading this page with nbviewer.org.</b></div><div class=\"sk-container\" hidden><div class=\"sk-item\"><div class=\"sk-estimator sk-toggleable\"><input class=\"sk-toggleable__control sk-hidden--visually\" id=\"sk-estimator-id-1\" type=\"checkbox\" checked><label for=\"sk-estimator-id-1\" class=\"sk-toggleable__label sk-toggleable__label-arrow\">SVC</label><div class=\"sk-toggleable__content\"><pre>SVC(kernel=&#x27;linear&#x27;)</pre></div></div></div></div></div>"
      ],
      "text/plain": [
       "SVC(kernel='linear')"
      ]
     },
     "execution_count": 16,
     "metadata": {},
     "output_type": "execute_result"
    }
   ],
   "source": [
    "from sklearn import svm\n",
    "\n",
    "clf_svm = svm.SVC(kernel=\"linear\")\n",
    "\n",
    "clf_svm.fit(train_x_vectors, train_y)\n"
   ]
  },
  {
   "cell_type": "code",
   "execution_count": 17,
   "metadata": {},
   "outputs": [
    {
     "data": {
      "text/plain": [
       "array(['saglik'], dtype='<U9')"
      ]
     },
     "execution_count": 17,
     "metadata": {},
     "output_type": "execute_result"
    }
   ],
   "source": [
    "clf_svm.predict(test_x_vectors[250])"
   ]
  },
  {
   "cell_type": "code",
   "execution_count": 18,
   "metadata": {},
   "outputs": [
    {
     "data": {
      "text/plain": [
       "' chp sgk mahrem sağlık bilgilerimizi sattı chp_mersin_milletvekili_aytuğ_atıcı meclis te düzenlediği basın toplantısında sgk nın vatandaşların hastalıklarının neler olduğu ve hangi ilaçları kullandığına ilişkin bilgileri bir firmaya 72 milyon liraya sattığını öne sürdü bunun türkiye_cumhuriyeti tarihinde bir ilk olduğunu ve asla kabul edilemeyeceğini belirten atıcı ak_parti hükümeti nin sağlıkta dönüşüm adı altında halkın sağlığını ve bilgilerini de sattığını ileri sürdü sağlık_bakanlığı nın kamu ve özel tüm sağlık kuruluşlarına başvuranların kişisel bilgilerini ve kendisine verilerin hizmetin sağlık net 2 sistemi kapsamında tek bir merkezde toplamaya başladığını kaydeden atıcı bu bilgiler arasında bütün kimlik ve iletişim adresleri alkol ve sigara kullanımı gebelik testi sonuçları son adet tarihi ve hatta babanın kan grubu bile bulunuyor dedi atıcı şöyle devam etti bu bilgiler sigorta şirketleri ve sağlık sektöründeki firmalar için çok değerli bu bilgileri satın alan firmalar iletişim adreslerimizden bizlere ulaşarak şu bitkiyi şu ilacı kullanın diye bizleri arayacaklar babanın kan grubunu ne yapacaksınız bir uyuşmazlık söz konusu olduğunda nasıl şantajlar yapılabilir düşünebiliyor musunuz hükümet in sağlıkta satmadığı hiçbir şey kalmamıştı şimdi de kişisel verilerimizi satıyor bu talepler george orwell in 1984 adlı romanında tarif ettiği herkesi fişleyen hayatı zindan eden geçmişin olmadığı herkesin 24 saat kontrolde olduğu totaliter düzendeki sevgi bakanlığı nı hatırlatıyor akp zihniyeti mahrem olan ilaç ve hastalık bilgilerimizi satarak yine mahrem olan diğer sağlık bilgilerimizi de satacağının işaretini vermiştir bu durum özel hayata müdahaledir asla kabul edilemez sağlık_bakanı halkımıza daha fazla zarar vermeden derhal istifa etmeli ya da görevden alınmalıdır aa'"
      ]
     },
     "execution_count": 18,
     "metadata": {},
     "output_type": "execute_result"
    }
   ],
   "source": [
    "test_x[250]"
   ]
  },
  {
   "cell_type": "code",
   "execution_count": 19,
   "metadata": {},
   "outputs": [
    {
     "data": {
      "text/plain": [
       "array(['siyaset'], dtype='<U9')"
      ]
     },
     "execution_count": 19,
     "metadata": {},
     "output_type": "execute_result"
    }
   ],
   "source": [
    "test_news = [\"Eski Başbakan Gelecek Partisi Genel Başkanı Ahmet Davutoğlu Cumhurbaşkanı ve AKP Genel Başkanı Tayyip Erdoğandan ya da AKPden kendisine davet gelmesi halinde görüşebileceğini söylerken Ama görüşmek ayrı şey iş birliği ve destek ayrı şey ittifak ayrı şey Görüşürüz herkesle iş birliği ise ilkesel bir konudur dedi Gelecek Partisi lideri Ahmet Davutoğlu TV5te Mustafa Yılmazın Kulis Ankara programına katıldı Davutoğlu Yılmazın Gelin bir şeyler oldu beyaz sayfa açalım diye davet gelse Sayın Cumhurbaşkanından AK Partiden görüşür müsünüz sorusuna Görüşürüm çok açık Kimden davet gelirlerse gelsin görüşürüm Benim şahsıma ne yapmış olurlarsa olsun Hz Mevlananın talebesiyim gel derim kimseye git demem Sayın Cumhurbaşkanı ve AK Parti iki yıldır bizim bütün bayramlaşma teklifimizi reddettiler Ama görüşmek ayrı şey iş birliği ve destek ayrı şey ittifak ayrı şey Görüşürüz herkesle iş birliği ise ilkesel bir konudur yanıtını verdi\"]\n",
    "new_test = vectorizer.transform(test_news)\n",
    "clf_svm.predict(new_test)"
   ]
  },
  {
   "cell_type": "code",
   "execution_count": 20,
   "metadata": {},
   "outputs": [
    {
     "data": {
      "text/plain": [
       "array(['teknoloji'], dtype='<U9')"
      ]
     },
     "execution_count": 20,
     "metadata": {},
     "output_type": "execute_result"
    }
   ],
   "source": [
    "test2 = [\"\"\"Türkiye Cumhuriyet Merkez Bankası (TCMB) ASELSAN\n",
    "HAVELSAN ve TÜBİTAK-BİLGEM’le ikili mutabakat zabıtlarını imzalayarak Dijital\n",
    "Türk Lirası İşbirliği Platformunun  oluşturulduğunu duyurdu.Kurumun resmi internet \n",
    "sitesinden yapılan paylaşımda şöyle dendi Türkiye Cumhuriyet Merkez Bankası (TCMB), mevcut ödemeler \n",
    "altyapısını tamamlayıcı nitelikte dijital Türk lirasının tedavülünün potansiyel katkılarını araştırmayı sürdürmektedir. \n",
    "Merkez Bankası Dijital Türk Lirası Araştırma Geliştirme (AR-GE) projesi kapsamında kavram ispat çalışmasının tamamlanması\n",
    "ile başlayan süreç, teknoloji paydaşlarının katılımı ile bir sonraki aşamaya taşınmaktadır. Merkez Bankası Dijital Türk\n",
    "Lirası Ar-Ge projesinin, teknolojik araştırma, geliştirme ve test süreçleri teknoloji paydaşlarının katılımı ile yakın \n",
    "işbirliği içerisinde gerçekleştirilecektir. Bu doğrultuda Merkez Bankası ASELSAN, HAVELSAN ve TÜBİTAK-BİLGEM ile ikili \n",
    "mutabakat zabıtları imzalamış ve “Dijital Türk Lirası İşbirliği Platformu” oluşturmuştur. Projeye ilişkin stratejik ve \n",
    "kritik teknolojilerin ön uygulama testlerinin yapılacağı birinci faz bulguları ışığında, platformun yeni katılımlarla \n",
    "genişletilmesi planlanmaktadır. Birinci faz pilot uygulama çalışmaları kapsamında TCMB nezdinde prototip “Dijital Türk Lirası \n",
    "Ağı” tesis edilerek teknoloji paydaşları ile dar kapsamlı ve kapalı devre pilot uygulama testleri gerçekleştirilecektir. \n",
    "Elde edilen sonuçlar doğrultusunda daha yaygın ve geniş katılımlı pilot testlerin gerçekleştirileceği ileri aşama \n",
    "fazlara geçilecektir. Blokzincir teknolojisi, dağıtık yapıların ödeme sistemlerinde kullanımı, anlık ödeme sistemleri \n",
    "ile entegrasyon gibi başlıklarda Dijital \n",
    "Türk Lirası Ar-Ge projesi kapsamında çeşitlilik gerektirebilecek testlerin yapılması da planlanmaktadır \"\"\"]\n",
    "new_test = vectorizer.transform(test2)\n",
    "clf_svm.predict(new_test)"
   ]
  },
  {
   "cell_type": "code",
   "execution_count": 21,
   "metadata": {},
   "outputs": [
    {
     "data": {
      "text/plain": [
       "array(['ekonomi'], dtype='<U9')"
      ]
     },
     "execution_count": 21,
     "metadata": {},
     "output_type": "execute_result"
    }
   ],
   "source": [
    "test3 = [\"\"\"kripto para dünyasına yeni bir soluk getiren bull and bear fx isimli şirket, \n",
    "dolar euro gibi yatırımlarınızı değerlendirmek için yeni olanaklar sunuyor. Tamamen güvenli ve yatırımcı odaklı olan kripto para uygulamaları\n",
    "devletlerin ekonomi üzerindeki müdahalesini azaltarak, insanlara yatırımlarını kolayca ve kayıpsız yönetme fırsatı sunmakta. \"\"\"]\n",
    "new_test = vectorizer.transform(test3)\n",
    "clf_svm.predict(new_test)"
   ]
  },
  {
   "cell_type": "code",
   "execution_count": 27,
   "metadata": {},
   "outputs": [
    {
     "data": {
      "text/plain": [
       "array(['ekonomi'], dtype='<U9')"
      ]
     },
     "execution_count": 27,
     "metadata": {},
     "output_type": "execute_result"
    }
   ],
   "source": [
    "test4 = [\"\"\"İngiltere'de tüketici enflasyonu Ağustos ayında \n",
    "        Mart 2012'den bu yana görülen en yüksek seviyeye çıktı. \n",
    "        Temmuz ayında yüzde 2,0 olan tüketici enflasyonu Ağustos \n",
    "        ayında yüzde 3,2'ye yükseldi ve bu verilerin tutulmaya başlandığı \n",
    "        1987'den bu yana görülen en hızlı artış oldu.\"\"\"]\n",
    "new_test = vectorizer.transform(test4)\n",
    "clf_svm.predict(new_test)"
   ]
  },
  {
   "cell_type": "code",
   "execution_count": 23,
   "metadata": {},
   "outputs": [
    {
     "data": {
      "text/plain": [
       "array(['dunya'], dtype='<U9')"
      ]
     },
     "execution_count": 23,
     "metadata": {},
     "output_type": "execute_result"
    }
   ],
   "source": [
    "test5 = [\"\"\"Japonya Savunma Bakanlığı Kuzey Kore tarafından atılan füzenin küresel ölçekte tehdit oluşturduğunu iddia etti. \n",
    "Kuzey kore tarafından yapılmaya devam edilen nükleer denemeler, bölge ülkeleri için tehdit yaratmaya devam ediyor. ABD başkanı Trump bölgenin \n",
    "silahlandırılmasına izin vermeyeceklerini söyledi Bunun yanı sıra kuzey kore rusya çin ve japonya arasında gerilimi arttırıcı\n",
    "hareketlerden kaçınılması gerektiğini belirtti\"\"\"]\n",
    "new_test = vectorizer.transform(test5)\n",
    "clf_svm.predict(new_test)"
   ]
  },
  {
   "cell_type": "code",
   "execution_count": 26,
   "metadata": {},
   "outputs": [
    {
     "data": {
      "text/plain": [
       "array(['ekonomi'], dtype='<U9')"
      ]
     },
     "execution_count": 26,
     "metadata": {},
     "output_type": "execute_result"
    }
   ],
   "source": [
    "test6 = [\"\"\"Almanya'da 26 Eylül'de yapılacak olan ve Başbakan Merkel'in aday olmayacağı genel seçim yaklaşırken kararsızların oranı çok yüksek.\n",
    "         Allensbach araştırma enstitüsünün Frankfurther Allgemeine Zeitung için yaptığı araştırmaya göre, 26 Eylül'de sandık başına gitmeye \n",
    "         karar vermiş seçmenlerin sadece yüzde 60'ı hangi partiye oy vereceğine de karar vermiş durumda.\n",
    "        Seçmenlerin yüzde 40'ı henüz hangi partiye oy vereceklerine karar vermemiş durumdalar. \n",
    "        2017 seçimleri öncesi kararsızların oranı yüzde 35 olmuştu. 2013 seçiminde ise bu oran yüzde 24 seviyesindeydi.\"\"\"]\n",
    "new_test = vectorizer.transform(test6)\n",
    "clf_svm.predict(new_test)\n"
   ]
  },
  {
   "cell_type": "code",
   "execution_count": 116,
   "metadata": {},
   "outputs": [
    {
     "data": {
      "text/plain": [
       "array(['siyaset', 'dunya', 'ekonomi', 'kultur', 'saglik', 'spor',\n",
       "       'teknoloji'], dtype=object)"
      ]
     },
     "execution_count": 116,
     "metadata": {},
     "output_type": "execute_result"
    }
   ],
   "source": [
    "df['category'].unique()"
   ]
  },
  {
   "cell_type": "code",
   "execution_count": 45,
   "metadata": {},
   "outputs": [],
   "source": [
    "test9 = [\"Avrupa İstatistik Ofisi (Eurostat), Avrupa Birliği (AB) ve Avro Bölgesi'nin Aralık 2022 dönemine ilişkin enflasyon nihai verilerini yayımladı. Buna göre, Avro Bölgesi'nde kasımda yüzde 10,1 olan yıllık enflasyon, aralıkta yüzde 9,2 olarak belirlendi. Avro Bölgesi'nin öncü verilerinde de aralık ayı enflasyonu aynı seviyede ölçülmüştü. Avro Bölgesi'nde aralıkta enflasyon bir önceki aya kıyasla yüzde 0,4 geriledi. AB'de de kasımda yüzde 11,1 olan yıllık enflasyon aralıkta yüzde 10,4'e yavaşladı. Enflasyon, 2021'in aralık ayında Avro Bölgesi'nde yüzde 5, AB'de ise yüzde 5,3 seviyesindeydi. Avro Bölgesi'ndeki enflasyonun yüzde 2,88'i gıda, alkol ve tütün ürünleri, yüzde 2,79'u enerji, yüzde 1,83'ü hizmetler ve yüzde 1,7'si enerji dışı sanayi ürünlerinden kaynaklandı.\"]"
   ]
  },
  {
   "cell_type": "code",
   "execution_count": 46,
   "metadata": {},
   "outputs": [
    {
     "data": {
      "text/plain": [
       "array(['ekonomi'], dtype='<U9')"
      ]
     },
     "execution_count": 46,
     "metadata": {},
     "output_type": "execute_result"
    }
   ],
   "source": [
    "new_test9 = vectorizer.transform(test9)\n",
    "clf_svm.predict(new_test9)"
   ]
  },
  {
   "cell_type": "markdown",
   "metadata": {},
   "source": [
    "<h3 style = \"color: #a64e7e\">Evaluation of the model</h3>\n",
    "<p style = \"color: Darkblue \">Analyze the model using cf.score</p>"
   ]
  },
  {
   "cell_type": "markdown",
   "metadata": {},
   "source": [
    "### mean Accuracy"
   ]
  },
  {
   "cell_type": "code",
   "execution_count": 37,
   "metadata": {},
   "outputs": [
    {
     "data": {
      "text/plain": [
       "0.8713667285095856"
      ]
     },
     "execution_count": 37,
     "metadata": {},
     "output_type": "execute_result"
    }
   ],
   "source": [
    "clf_svm.score(test_x_vectors, test_y)"
   ]
  },
  {
   "cell_type": "markdown",
   "metadata": {},
   "source": [
    "### f1 score\n",
    "#### In the multi-class and multi-label case, this is the average of the F1 score of each class with weighting depending on the average parameter."
   ]
  },
  {
   "cell_type": "code",
   "execution_count": 132,
   "metadata": {},
   "outputs": [],
   "source": [
    "labels = list(df['category'].unique())"
   ]
  },
  {
   "cell_type": "code",
   "execution_count": 133,
   "metadata": {},
   "outputs": [
    {
     "data": {
      "text/plain": [
       "['siyaset', 'dunya', 'ekonomi', 'kultur', 'saglik', 'spor', 'teknoloji']"
      ]
     },
     "execution_count": 133,
     "metadata": {},
     "output_type": "execute_result"
    }
   ],
   "source": [
    "labels"
   ]
  },
  {
   "cell_type": "code",
   "execution_count": 134,
   "metadata": {},
   "outputs": [
    {
     "data": {
      "text/plain": [
       "array([0.84123711, 0.82180294, 0.83913043, 0.88559322, 0.91904762,\n",
       "       0.92505353, 0.87417219])"
      ]
     },
     "execution_count": 134,
     "metadata": {},
     "output_type": "execute_result"
    }
   ],
   "source": [
    "from sklearn.metrics import f1_score\n",
    "\n",
    "f1_score(test_y, clf_svm.predict(test_x_vectors), average = None, labels = labels )"
   ]
  },
  {
   "cell_type": "markdown",
   "metadata": {},
   "source": [
    "## save the model"
   ]
  },
  {
   "cell_type": "code",
   "execution_count": 24,
   "metadata": {},
   "outputs": [],
   "source": [
    "import pickle"
   ]
  },
  {
   "cell_type": "code",
   "execution_count": 26,
   "metadata": {},
   "outputs": [],
   "source": [
    "with open(\"news_classifier.pkl\", \"wb\") as f:\n",
    "    pickle.dump(clf_svm, f)"
   ]
  },
  {
   "cell_type": "markdown",
   "metadata": {},
   "source": [
    "## open the model and use"
   ]
  },
  {
   "cell_type": "code",
   "execution_count": 140,
   "metadata": {},
   "outputs": [],
   "source": [
    "with open(\"./models/news_classifier.pkl\", \"rb\") as f:\n",
    "    loaded_clf = pickle.load(f)"
   ]
  },
  {
   "cell_type": "code",
   "execution_count": 150,
   "metadata": {},
   "outputs": [
    {
     "data": {
      "text/plain": [
       "array(['dunya'], dtype='<U9')"
      ]
     },
     "execution_count": 150,
     "metadata": {},
     "output_type": "execute_result"
    }
   ],
   "source": [
    "loaded_clf.predict(test_x_vectors[501])"
   ]
  },
  {
   "cell_type": "code",
   "execution_count": 151,
   "metadata": {},
   "outputs": [
    {
     "data": {
      "text/plain": [
       "' medvedev suriye nin parçalanmasını istemiyoruz rusya_başbakanı dimitriy medvedev rusya nın suriye nin parçalanmasını istemediğini söyledi ikili temaslarda bulunmak üzere fransa ya giden medvedev le_figaro gazetesine demeç verdi rusya ile suriye arasındaki işbirliğinin bugün başlamadığını söyleyen medvedev suriye ile askeri anlaşmalarımız kesinlikle yasaldır ve uluslararası hukuku ihlal etmemektedir suriye ile yerine getirmek zorunda olduğumuz askeri anlaşmalarımız var dedi suriye ye yönelik uluslararası yaptırımların kabul edilmesi halinde her türlü silah temininin duracağını belirten medvedev iran ı örnek olarak gösterdi medvedev bm_güvenlik_konseyi kararı çerçevesinde iran a belli başlı silahların sağlanması durduruldu biz de bu karara uyduk ancak iran yönetimiyle de yasal görüşmelere devam ettik bu tavrımız uluslararası toplumun yararınaydı bu nedenledir ki suriye hükümeti ile de belli düzeyde işbirliğine devam ediyoruz değerlendirmesinde bulundu bm_güvenlik_konseyi nin 1970 de aldığı kararla herhangi bir ülkenin görevde bulunan hükümetine yönelik güç kullanılmasının desteklenmesinin kabul edilemez olduğunu tespit ettiğini vurgulayan medvedev rusya nın suriye krizinde tarafsız kaldığını savundu medvedev esed in ve esed rejiminin kaderine suriye halkını karar vermesi gerektiğini kaydederek suriye de tüm taraflardan kaynaklanan şiddet olaylarını kınıyoruz suriye nin parçalanmasını istemiyoruz ifadesini kullandı'"
      ]
     },
     "execution_count": 151,
     "metadata": {},
     "output_type": "execute_result"
    }
   ],
   "source": [
    "test_x[501]"
   ]
  },
  {
   "cell_type": "markdown",
   "metadata": {},
   "source": [
    "### Nearest Neighbours"
   ]
  },
  {
   "cell_type": "code",
   "execution_count": 37,
   "metadata": {},
   "outputs": [],
   "source": [
    "from sklearn.neighbors import NearestNeighbors"
   ]
  }
 ],
 "metadata": {
  "kernelspec": {
   "display_name": "Python 3 (ipykernel)",
   "language": "python",
   "name": "python3"
  },
  "language_info": {
   "codemirror_mode": {
    "name": "ipython",
    "version": 3
   },
   "file_extension": ".py",
   "mimetype": "text/x-python",
   "name": "python",
   "nbconvert_exporter": "python",
   "pygments_lexer": "ipython3",
   "version": "3.10.6"
  }
 },
 "nbformat": 4,
 "nbformat_minor": 4
}
